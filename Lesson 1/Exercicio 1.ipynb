
{
  "nbformat": 4,
  "nbformat_minor": 0,
  "metadata": {
    "colab": {
      "provenance": [],
      "authorship_tag": "ABX9TyOHC6/SLP9YPby2sE/ovDrI",
      "include_colab_link": true
    },
    "kernelspec": {
      "name": "python3",
      "display_name": "Python 3"
    },
    "language_info": {
      "name": "python"
    }
  },
  "cells": [
    {
      "cell_type": "markdown",
      "metadata": {
        "id": "view-in-github",
        "colab_type": "text"
      },
      "source": [
        "<a href=\"https://colab.research.google.com/github/viitoriaraujoo/Data-Science-Projects-with-Python/blob/main/Exercicio%201.ipynb\" target=\"_parent\"><img src=\"https://colab.research.google.com/assets/colab-badge.svg\" alt=\"Open In Colab\"/></a>"
      ]
    },
    {
      "cell_type": "markdown",
      "source": [
        "# Exercicio 1"
      ],
      "metadata": {
        "id": "uct-2YkUdgau"
      }
    },
    {
      "cell_type": "markdown",
      "source": [
        "## 2. Verificando a versão do Python"
      ],
      "metadata": {
        "id": "S2S-LPrlr3hu"
      }
    },
    {
      "cell_type": "code",
      "source": [
        "!python -V"
      ],
      "metadata": {
        "colab": {
          "base_uri": "https://localhost:8080/"
        },
        "id": "ZxuoJaXauBsS",
        "outputId": "3f314ffe-6d32-41da-c7ba-7683795a8cfe"
      },
      "execution_count": 6,
      "outputs": [
        {
          "output_type": "stream",
          "name": "stdout",
          "text": [
            "Python 3.10.12\n"
          ]
        }
      ]
    },
    {
      "cell_type": "markdown",
      "source": [
        "## 3. For Loop"
      ],
      "metadata": {
        "id": "Ng_R5ZtTukG6"
      }
    },
    {
      "cell_type": "code",
      "source": [
        "for counter in range(5):\n",
        "  print(counter)"
      ],
      "metadata": {
        "colab": {
          "base_uri": "https://localhost:8080/"
        },
        "id": "lMI96dmzuHIt",
        "outputId": "d2843df0-3a26-408a-da14-3b9a620e4fc5"
      },
      "execution_count": 8,
      "outputs": [
        {
          "output_type": "stream",
          "name": "stdout",
          "text": [
            "0\n",
            "1\n",
            "2\n",
            "3\n",
            "4\n"
          ]
        }
      ]
    },
    {
      "cell_type": "markdown",
      "source": [
        "## 4. Dicionário de frutas"
      ],
      "metadata": {
        "id": "uPxxm58DuxQM"
      }
    },
    {
      "cell_type": "code",
      "source": [
        "example_dict = {'apples':5, 'oranges':8, 'bananas':13}"
      ],
      "metadata": {
        "id": "fDceEO_tu8tr"
      },
      "execution_count": 10,
      "outputs": []
    },
    {
      "cell_type": "markdown",
      "source": [
        "## 5. Converta o dicionário em uma lista"
      ],
      "metadata": {
        "id": "rU3vhx8tvDk0"
      }
    },
    {
      "cell_type": "code",
      "source": [
        "dict_to_list = list(example_dict)\n",
        "dict_to_list"
      ],
      "metadata": {
        "colab": {
          "base_uri": "https://localhost:8080/"
        },
        "id": "b3tYJyLlvJAD",
        "outputId": "83824dbc-e7cc-4d9e-c12c-901ed1d83dab"
      },
      "execution_count": 12,
      "outputs": [
        {
          "output_type": "execute_result",
          "data": {
            "text/plain": [
              "['apples', 'oranges', 'bananas']"
            ]
          },
          "metadata": {},
          "execution_count": 12
        }
      ]
    },
    {
      "cell_type": "markdown",
      "source": [
        " ## 6. Combinar a lista de frutas existente com uma nova lista"
      ],
      "metadata": {
        "id": "iRuvLoGWveuU"
      }
    },
    {
      "cell_type": "code",
      "source": [
        "dict_to_list = dict_to_list + ['pears']\n",
        "dict_to_list"
      ],
      "metadata": {
        "colab": {
          "base_uri": "https://localhost:8080/"
        },
        "id": "J4qYS-L0vm8a",
        "outputId": "2c43ba0c-248f-462b-e4eb-4c4746542623"
      },
      "execution_count": 14,
      "outputs": [
        {
          "output_type": "execute_result",
          "data": {
            "text/plain": [
              "['apples', 'oranges', 'bananas', 'pears', 'pears']"
            ]
          },
          "metadata": {},
          "execution_count": 14
        }
      ]
    },
    {
      "cell_type": "markdown",
      "source": [
        "## 7. Classifique a lista de frutas em ordem alfabética"
      ],
      "metadata": {
        "id": "Jdh_OnhmvsIM"
      }
    },
    {
      "cell_type": "code",
      "source": [
        "sorted(dict_to_list)"
      ],
      "metadata": {
        "colab": {
          "base_uri": "https://localhost:8080/"
        },
        "id": "_kNApakOv4Il",
        "outputId": "e31fef53-5d77-4ca7-d34f-473644885752"
      },
      "execution_count": 15,
      "outputs": [
        {
          "output_type": "execute_result",
          "data": {
            "text/plain": [
              "['apples', 'bananas', 'oranges', 'pears', 'pears']"
            ]
          },
          "metadata": {},
          "execution_count": 15
        }
      ]
    }
  ]
}
